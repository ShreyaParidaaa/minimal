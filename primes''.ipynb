{
 "cells": [
  {
   "cell_type": "code",
   "execution_count": 8,
   "id": "b06be8db",
   "metadata": {},
   "outputs": [
    {
     "name": "stdout",
     "output_type": "stream",
     "text": [
      "ENTER ANY NUMBER : 13\n"
     ]
    }
   ],
   "source": [
    "x = int(input('ENTER ANY NUMBER : '))"
   ]
  },
  {
   "cell_type": "code",
   "execution_count": 9,
   "id": "3ab24609",
   "metadata": {},
   "outputs": [
    {
     "data": {
      "text/plain": [
       "13"
      ]
     },
     "execution_count": 9,
     "metadata": {},
     "output_type": "execute_result"
    }
   ],
   "source": [
    "x"
   ]
  },
  {
   "cell_type": "code",
   "execution_count": 13,
   "id": "58b939ac",
   "metadata": {},
   "outputs": [
    {
     "name": "stdout",
     "output_type": "stream",
     "text": [
      "True\n",
      "False\n",
      "False\n",
      "False\n",
      "False\n",
      "False\n",
      "False\n",
      "False\n",
      "False\n",
      "False\n",
      "False\n",
      "False\n",
      "True\n"
     ]
    }
   ],
   "source": [
    "for i in range(1,x+1):\n",
    "               print(x%i == 0)"
   ]
  },
  {
   "cell_type": "code",
   "execution_count": 14,
   "id": "e2f038fd",
   "metadata": {},
   "outputs": [
    {
     "name": "stdout",
     "output_type": "stream",
     "text": [
      "1\n",
      "2\n",
      "3\n",
      "4\n",
      "5\n",
      "6\n",
      "7\n",
      "8\n",
      "9\n",
      "10\n",
      "11\n",
      "12\n",
      "13\n"
     ]
    }
   ],
   "source": [
    "for i in range(1,x+1):\n",
    "               print(i)"
   ]
  },
  {
   "cell_type": "code",
   "execution_count": 30,
   "id": "0249f4fd",
   "metadata": {},
   "outputs": [],
   "source": [
    "factors_cnt = 0"
   ]
  },
  {
   "cell_type": "code",
   "execution_count": 34,
   "id": "07a14a92",
   "metadata": {},
   "outputs": [],
   "source": [
    "for i in range (1,x+1):\n",
    "    if (x%i == 0):\n",
    "        factor_cnt = factors_cnt+1\n",
    "        \n",
    "    if factors_cnt == 2:\n",
    "        print('number is prime')"
   ]
  },
  {
   "cell_type": "code",
   "execution_count": 35,
   "id": "33527fd3",
   "metadata": {},
   "outputs": [
    {
     "name": "stdout",
     "output_type": "stream",
     "text": [
      "Enter a number: 12\n",
      "Number is not prime\n"
     ]
    }
   ],
   "source": [
    "x = int(input(\"Enter a number: \"))  \n",
    "factor_cnt = 0 \n",
    "\n",
    "for i in range(1, x + 1):  \n",
    "    if x % i == 0:\n",
    "        factor_cnt += 1  \n",
    "\n",
    "if factor_cnt == 2:  \n",
    "    print(\"Number is prime\")\n",
    "else:\n",
    "    print(\"Number is not prime\")\n"
   ]
  },
  {
   "cell_type": "code",
   "execution_count": 36,
   "id": "4d077444",
   "metadata": {},
   "outputs": [
    {
     "name": "stdout",
     "output_type": "stream",
     "text": [
      "True\n",
      "True\n",
      "True\n",
      "True\n",
      "False\n",
      "True\n",
      "False\n",
      "False\n",
      "False\n",
      "False\n",
      "False\n",
      "True\n",
      "not prime\n"
     ]
    }
   ],
   "source": [
    "for i in range(1,x+1):\n",
    "    print(x%i == 0)\n",
    "    factors_cnt = factors_cnt+1\n",
    "if factors_cnt == 2:\n",
    "    print ('number is prime')\n",
    "else:\n",
    "    print('not prime')"
   ]
  },
  {
   "cell_type": "code",
   "execution_count": 37,
   "id": "931ad5b8",
   "metadata": {},
   "outputs": [],
   "source": [
    "for i in range (1,x+1):\n",
    "    if (x%i == 0):\n",
    "        factor_cnt =+1 \n",
    "        \n",
    "    if factor_cnt == 2:\n",
    "        print('number is prime')"
   ]
  },
  {
   "cell_type": "code",
   "execution_count": 40,
   "id": "e9bf1793",
   "metadata": {},
   "outputs": [],
   "source": [
    "l = [1,2,6,3,2,1,5,3,6,4,3,2,3,1]"
   ]
  },
  {
   "cell_type": "code",
   "execution_count": 41,
   "id": "3e125b82",
   "metadata": {},
   "outputs": [],
   "source": [
    "d = {}"
   ]
  },
  {
   "cell_type": "code",
   "execution_count": 43,
   "id": "75b8b136",
   "metadata": {},
   "outputs": [
    {
     "data": {
      "text/plain": [
       "dict"
      ]
     },
     "execution_count": 43,
     "metadata": {},
     "output_type": "execute_result"
    }
   ],
   "source": [
    "type(d)"
   ]
  },
  {
   "cell_type": "code",
   "execution_count": 46,
   "id": "339d6b0f",
   "metadata": {},
   "outputs": [],
   "source": [
    "for i in l :\n",
    "    d[i] = l.count(i)"
   ]
  },
  {
   "cell_type": "code",
   "execution_count": 47,
   "id": "f9a48769",
   "metadata": {},
   "outputs": [
    {
     "data": {
      "text/plain": [
       "{1: 3, 2: 3, 6: 2, 3: 4, 5: 1, 4: 1}"
      ]
     },
     "execution_count": 47,
     "metadata": {},
     "output_type": "execute_result"
    }
   ],
   "source": [
    "d"
   ]
  },
  {
   "cell_type": "code",
   "execution_count": 48,
   "id": "0611bb9f",
   "metadata": {},
   "outputs": [],
   "source": [
    "seen_numbers =[]"
   ]
  },
  {
   "cell_type": "code",
   "execution_count": 51,
   "id": "f6385db6",
   "metadata": {},
   "outputs": [],
   "source": [
    "for i in l:\n",
    "    if i not in seen_numbers:\n",
    "        d[i] = l.count(i)\n",
    "        seen_numbers.append(i)"
   ]
  },
  {
   "cell_type": "code",
   "execution_count": 52,
   "id": "cfc24642",
   "metadata": {},
   "outputs": [
    {
     "data": {
      "text/plain": [
       "{1: 3, 2: 3, 6: 2, 3: 4, 5: 1, 4: 1}"
      ]
     },
     "execution_count": 52,
     "metadata": {},
     "output_type": "execute_result"
    }
   ],
   "source": [
    "d"
   ]
  },
  {
   "cell_type": "code",
   "execution_count": 53,
   "id": "20b0977a",
   "metadata": {},
   "outputs": [],
   "source": [
    "l = [1,2,6,3,2,1,6,3,2,4,2,3,1]\n",
    "output = [1,'one',2,2,1,'one',3,4,1,'one',2]"
   ]
  },
  {
   "cell_type": "code",
   "execution_count": 55,
   "id": "017f448a",
   "metadata": {},
   "outputs": [],
   "source": [
    "import itertools"
   ]
  },
  {
   "cell_type": "code",
   "execution_count": 56,
   "id": "e9220b1c",
   "metadata": {},
   "outputs": [
    {
     "data": {
      "text/plain": [
       "['__doc__',\n",
       " '__loader__',\n",
       " '__name__',\n",
       " '__package__',\n",
       " '__spec__',\n",
       " '_grouper',\n",
       " '_tee',\n",
       " '_tee_dataobject',\n",
       " 'accumulate',\n",
       " 'chain',\n",
       " 'combinations',\n",
       " 'combinations_with_replacement',\n",
       " 'compress',\n",
       " 'count',\n",
       " 'cycle',\n",
       " 'dropwhile',\n",
       " 'filterfalse',\n",
       " 'groupby',\n",
       " 'islice',\n",
       " 'permutations',\n",
       " 'product',\n",
       " 'repeat',\n",
       " 'starmap',\n",
       " 'takewhile',\n",
       " 'tee',\n",
       " 'zip_longest']"
      ]
     },
     "execution_count": 56,
     "metadata": {},
     "output_type": "execute_result"
    }
   ],
   "source": [
    "dir(itertools)"
   ]
  },
  {
   "cell_type": "code",
   "execution_count": null,
   "id": "6af999fe",
   "metadata": {},
   "outputs": [],
   "source": []
  }
 ],
 "metadata": {
  "kernelspec": {
   "display_name": "Python 3 (ipykernel)",
   "language": "python",
   "name": "python3"
  },
  "language_info": {
   "codemirror_mode": {
    "name": "ipython",
    "version": 3
   },
   "file_extension": ".py",
   "mimetype": "text/x-python",
   "name": "python",
   "nbconvert_exporter": "python",
   "pygments_lexer": "ipython3",
   "version": "3.9.13"
  }
 },
 "nbformat": 4,
 "nbformat_minor": 5
}
